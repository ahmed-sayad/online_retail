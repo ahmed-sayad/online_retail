{
 "cells": [
  {
   "cell_type": "code",
   "execution_count": 1,
   "id": "3713cee9",
   "metadata": {},
   "outputs": [],
   "source": [
    "import pandas as pd\n",
    "from ucimlrepo import fetch_ucirepo"
   ]
  },
  {
   "cell_type": "code",
   "execution_count": 2,
   "id": "9b541ff1",
   "metadata": {},
   "outputs": [],
   "source": [
    "online_retail = fetch_ucirepo(id=352)\n",
    "df = online_retail.data.original\n",
    "\n",
    "df.dropna(subset=['CustomerID', 'Description'], inplace=True)\n",
    "df['InvoiceDate'] = pd.to_datetime(df['InvoiceDate'])\n",
    "df['TotalPrice'] = df['Quantity'] * df['UnitPrice']\n",
    "\n",
    "# Dim Table: Customers\n",
    "dim_customers = df[['CustomerID', 'Country']].drop_duplicates().reset_index(drop=True)\n",
    "\n",
    "# Dim Table: Products\n",
    "dim_products = df[['Description']].drop_duplicates().reset_index(drop=True)\n",
    "dim_products['ProductID'] = dim_products.index + 1\n",
    "\n",
    "# Mearge the ProductID\n",
    "df = df.merge(dim_products, on='Description', how='left')\n",
    "\n",
    "# Dim Table: Time\n",
    "dim_time = df[['InvoiceDate']].drop_duplicates().reset_index(drop=True)\n",
    "dim_time['TimeID'] = dim_time.index + 1\n",
    "dim_time['Year'] = dim_time['InvoiceDate'].dt.year\n",
    "dim_time['Month'] = dim_time['InvoiceDate'].dt.month\n",
    "dim_time['Day'] = dim_time['InvoiceDate'].dt.day\n",
    "\n",
    "# Mearge TimeID\n",
    "df = df.merge(dim_time, on='InvoiceDate', how='left')\n",
    "\n",
    "# Fact Table\n",
    "fact_sales = df[['InvoiceNo', 'CustomerID', 'ProductID', 'TimeID', 'Quantity', 'UnitPrice', 'TotalPrice']].drop_duplicates()"
   ]
  },
  {
   "cell_type": "code",
   "execution_count": 3,
   "id": "f3a9164f",
   "metadata": {},
   "outputs": [
    {
     "name": "stdout",
     "output_type": "stream",
     "text": [
      "Star schema created and CSV files saved.\n"
     ]
    }
   ],
   "source": [
    "# Save as a CSV files\n",
    "dim_customers.to_csv('star_schema_tables/dim_customers.csv', index=False)\n",
    "dim_products.to_csv('star_schema_tables/dim_products.csv', index=False)\n",
    "dim_time.to_csv('star_schema_tables/dim_time.csv', index=False)\n",
    "fact_sales.to_csv('star_schema_tables/fact_sales.csv', index=False)\n",
    "\n",
    "print(\"Star schema created and CSV files saved.\")"
   ]
  },
  {
   "cell_type": "code",
   "execution_count": 4,
   "id": "4fb637f1",
   "metadata": {},
   "outputs": [
    {
     "name": "stdout",
     "output_type": "stream",
     "text": [
      "dim_customers:\n",
      "    CustomerID         Country\n",
      "0     17850.0  United Kingdom\n",
      "1     13047.0  United Kingdom\n",
      "2     12583.0          France\n",
      "3     13748.0  United Kingdom\n",
      "4     15100.0  United Kingdom\n",
      "\n",
      " dim_products:\n",
      "                            Description  ProductID\n",
      "0   WHITE HANGING HEART T-LIGHT HOLDER          1\n",
      "1                  WHITE METAL LANTERN          2\n",
      "2       CREAM CUPID HEARTS COAT HANGER          3\n",
      "3  KNITTED UNION FLAG HOT WATER BOTTLE          4\n",
      "4       RED WOOLLY HOTTIE WHITE HEART.          5\n",
      "\n",
      " dim_time:\n",
      "           InvoiceDate  TimeID  Year  Month  Day\n",
      "0 2010-12-01 08:26:00       1  2010     12    1\n",
      "1 2010-12-01 08:28:00       2  2010     12    1\n",
      "2 2010-12-01 08:34:00       3  2010     12    1\n",
      "3 2010-12-01 08:35:00       4  2010     12    1\n",
      "4 2010-12-01 08:45:00       5  2010     12    1\n",
      "\n",
      " fact_sales:\n",
      "   InvoiceNo  CustomerID  ProductID  TimeID  Quantity  UnitPrice  TotalPrice\n",
      "0    536365     17850.0          1       1         6       2.55       15.30\n",
      "1    536365     17850.0          2       1         6       3.39       20.34\n",
      "2    536365     17850.0          3       1         8       2.75       22.00\n",
      "3    536365     17850.0          4       1         6       3.39       20.34\n",
      "4    536365     17850.0          5       1         6       3.39       20.34\n"
     ]
    }
   ],
   "source": [
    "print(\"dim_customers:\\n\", dim_customers.head())\n",
    "print(\"\\n dim_products:\\n\", dim_products.head())\n",
    "print(\"\\n dim_time:\\n\", dim_time.head())\n",
    "print(\"\\n fact_sales:\\n\", fact_sales.head())"
   ]
  }
 ],
 "metadata": {
  "kernelspec": {
   "display_name": "Python 3",
   "language": "python",
   "name": "python3"
  },
  "language_info": {
   "codemirror_mode": {
    "name": "ipython",
    "version": 3
   },
   "file_extension": ".py",
   "mimetype": "text/x-python",
   "name": "python",
   "nbconvert_exporter": "python",
   "pygments_lexer": "ipython3",
   "version": "3.13.2"
  }
 },
 "nbformat": 4,
 "nbformat_minor": 5
}
