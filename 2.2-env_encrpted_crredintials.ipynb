{
 "cells": [
  {
   "cell_type": "code",
   "execution_count": 1,
   "id": "6a057e06",
   "metadata": {},
   "outputs": [
    {
     "name": "stdout",
     "output_type": "stream",
     "text": [
      "Defaulting to user installation because normal site-packages is not writeable\n",
      "Requirement already satisfied: cryptography in c:\\users\\ahmed\\appdata\\roaming\\python\\python313\\site-packages (45.0.4)\n",
      "Requirement already satisfied: cffi>=1.14 in c:\\users\\ahmed\\appdata\\roaming\\python\\python313\\site-packages (from cryptography) (1.17.1)\n",
      "Requirement already satisfied: pycparser in c:\\users\\ahmed\\appdata\\roaming\\python\\python313\\site-packages (from cffi>=1.14->cryptography) (2.22)\n",
      "Note: you may need to restart the kernel to use updated packages.\n"
     ]
    },
    {
     "name": "stderr",
     "output_type": "stream",
     "text": [
      "\n",
      "[notice] A new release of pip is available: 25.1.1 -> 25.2\n",
      "[notice] To update, run: python.exe -m pip install --upgrade pip\n"
     ]
    }
   ],
   "source": [
    "pip install cryptography"
   ]
  },
  {
   "cell_type": "code",
   "execution_count": 2,
   "id": "a35ef043",
   "metadata": {},
   "outputs": [
    {
     "name": "stdout",
     "output_type": "stream",
     "text": [
      "Encryption key saved to secret.key\n"
     ]
    }
   ],
   "source": [
    "# generate_key.py\n",
    "from cryptography.fernet import Fernet\n",
    "\n",
    "key = Fernet.generate_key()\n",
    "with open(\"secret.key\", \"wb\") as key_file:\n",
    "    key_file.write(key)\n",
    "print(\"Encryption key saved to secret.key\")\n"
   ]
  },
  {
   "cell_type": "code",
   "execution_count": 3,
   "id": "b4438cb7",
   "metadata": {},
   "outputs": [
    {
     "name": "stdout",
     "output_type": "stream",
     "text": [
      " .env encrypted successfully\n"
     ]
    }
   ],
   "source": [
    "# encrypt_env.py\n",
    "from cryptography.fernet import Fernet\n",
    "\n",
    "with open(\"secret.key\", \"rb\") as key_file:\n",
    "    key = key_file.read()\n",
    "\n",
    "fernet = Fernet(key)\n",
    "\n",
    "with open(\".env\", \"rb\") as file:\n",
    "    original = file.read()\n",
    "\n",
    "encrypted = fernet.encrypt(original)\n",
    "\n",
    "with open(\".env.enc\", \"wb\") as encrypted_file:\n",
    "    encrypted_file.write(encrypted)\n",
    "\n",
    "print(\" .env encrypted successfully\")\n"
   ]
  }
 ],
 "metadata": {
  "kernelspec": {
   "display_name": "Python 3",
   "language": "python",
   "name": "python3"
  },
  "language_info": {
   "codemirror_mode": {
    "name": "ipython",
    "version": 3
   },
   "file_extension": ".py",
   "mimetype": "text/x-python",
   "name": "python",
   "nbconvert_exporter": "python",
   "pygments_lexer": "ipython3",
   "version": "3.13.2"
  }
 },
 "nbformat": 4,
 "nbformat_minor": 5
}
