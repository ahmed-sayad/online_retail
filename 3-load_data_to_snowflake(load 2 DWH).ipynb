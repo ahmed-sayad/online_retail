{
 "cells": [
  {
   "cell_type": "code",
   "execution_count": 26,
   "id": "345cc79d",
   "metadata": {},
   "outputs": [
    {
     "name": "stdout",
     "output_type": "stream",
     "text": [
      "Defaulting to user installation because normal site-packages is not writeable\n",
      "Requirement already satisfied: cryptography in c:\\users\\ahmed\\appdata\\roaming\\python\\python313\\site-packages (45.0.4)\n",
      "Requirement already satisfied: cffi>=1.14 in c:\\users\\ahmed\\appdata\\roaming\\python\\python313\\site-packages (from cryptography) (1.17.1)\n",
      "Requirement already satisfied: pycparser in c:\\users\\ahmed\\appdata\\roaming\\python\\python313\\site-packages (from cffi>=1.14->cryptography) (2.22)\n",
      "Note: you may need to restart the kernel to use updated packages.\n"
     ]
    },
    {
     "name": "stderr",
     "output_type": "stream",
     "text": [
      "\n",
      "[notice] A new release of pip is available: 25.1.1 -> 25.2\n",
      "[notice] To update, run: python.exe -m pip install --upgrade pip\n"
     ]
    }
   ],
   "source": [
    "pip install cryptography"
   ]
  },
  {
   "cell_type": "code",
   "execution_count": 27,
   "id": "5becfa5f",
   "metadata": {},
   "outputs": [],
   "source": [
    "from dotenv import load_dotenv\n",
    "import os\n",
    "import pandas as pd\n",
    "import base64\n",
    "import snowflake.connector\n",
    "from snowflake.connector.pandas_tools import write_pandas\n",
    "from cryptography.fernet import Fernet\n",
    "from io import StringIO"
   ]
  },
  {
   "cell_type": "code",
   "execution_count": 28,
   "id": "14f01622",
   "metadata": {},
   "outputs": [
    {
     "data": {
      "text/plain": [
       "True"
      ]
     },
     "execution_count": 28,
     "metadata": {},
     "output_type": "execute_result"
    }
   ],
   "source": [
    "# Load .env variables\n",
    "\n",
    "with open('secret.key', 'rb') as f:\n",
    "    key = f.read()\n",
    "\n",
    "fernet = Fernet(key)\n",
    "\n",
    "# decoding env.enc\n",
    "with open('.env.enc', 'rb') as enc_file:\n",
    "    encrypted = enc_file.read()\n",
    "    decrypted = fernet.decrypt(encrypted).decode()\n",
    "\n",
    "load_dotenv(stream=StringIO(decrypted))"
   ]
  },
  {
   "cell_type": "code",
   "execution_count": 29,
   "id": "5d79c2f0",
   "metadata": {},
   "outputs": [],
   "source": [
    "import os\n",
    "from cryptography.fernet import Fernet\n",
    "from dotenv import load_dotenv\n",
    "\n",
    "# decrepting env.enc\n",
    "def load_encrypted_env(enc_file_path=\".env.enc\", key_file_path=\"secret.key\"):\n",
    "    with open(key_file_path, \"rb\") as key_file:\n",
    "        key = key_file.read()\n",
    "    fernet = Fernet(key)\n",
    "\n",
    "    with open(enc_file_path, \"rb\") as enc_file:\n",
    "        encrypted_data = enc_file.read()\n",
    "        decrypted_data = fernet.decrypt(encrypted_data)\n",
    "    with open(\".env\", \"wb\") as env_file:\n",
    "        env_file.write(decrypted_data)\n",
    "\n",
    "    load_dotenv()  \n",
    "\n",
    "load_encrypted_env()"
   ]
  },
  {
   "cell_type": "code",
   "execution_count": 30,
   "id": "4ae54d84",
   "metadata": {},
   "outputs": [
    {
     "data": {
      "text/plain": [
       "True"
      ]
     },
     "execution_count": 30,
     "metadata": {},
     "output_type": "execute_result"
    }
   ],
   "source": [
    "from dotenv import load_dotenv\n",
    "load_dotenv()\n"
   ]
  },
  {
   "cell_type": "code",
   "execution_count": null,
   "id": "37877d6d",
   "metadata": {},
   "outputs": [
    {
     "name": "stdout",
     "output_type": "stream",
     "text": [
      "Snowflake credentials from .env:\n",
      "User: AHMEDELSAYADD\n",
      "Password: RmFLSnBmZDZWY0pLSkdD          # this password is encrypted\n",
      "Account: PCPBABX-KN96138\n",
      "Role: ACCOUNTADMIN\n",
      "Warehouse: COMPUTE_WH\n",
      "Database: SALES\n",
      "Schema: PUBLIC\n"
     ]
    }
   ],
   "source": [
    "import os\n",
    "\n",
    "print(\"Snowflake credentials from .env:\")\n",
    "print(\"User:\", os.getenv(\"SNOWFLAKE_USER\"))\n",
    "print(\"Password:\", os.getenv(\"SNOWFLAKE_PASSWORD\"))\n",
    "print(\"Account:\", os.getenv(\"SNOWFLAKE_ACCOUNT\"))\n",
    "print(\"Role:\", os.getenv(\"SNOWFLAKE_ROLE\"))\n",
    "print(\"Warehouse:\", os.getenv(\"SNOWFLAKE_WAREHOUSE\"))\n",
    "print(\"Database:\", os.getenv(\"SNOWFLAKE_DATABASE\"))\n",
    "print(\"Schema:\", os.getenv(\"SNOWFLAKE_SCHEMA\"))\n"
   ]
  },
  {
   "cell_type": "code",
   "execution_count": 33,
   "id": "60f0df66",
   "metadata": {},
   "outputs": [
    {
     "name": "stdout",
     "output_type": "stream",
     "text": [
      "Connected to Snowflake. Version: 9.21.0\n"
     ]
    }
   ],
   "source": [
    "import snowflake.connector\n",
    "import os\n",
    "import base64\n",
    "\n",
    "def fix_base64_padding(encoded_str):\n",
    "    return encoded_str + '=' * (-len(encoded_str) % 4)\n",
    "\n",
    "try:\n",
    "    encoded_password = \"FaKJpfd6VcJKJGC\"\n",
    "    \n",
    "    if not encoded_password:\n",
    "        raise ValueError(\"SNOWFLAKE_PASSWORD environment variable not set.\")\n",
    "    \n",
    "    encoded_password_fixed = fix_base64_padding(encoded_password)\n",
    "    \n",
    "    decoded_password = \"FaKJpfd6VcJKJGC\"\n",
    "\n",
    "    conn = snowflake.connector.connect(\n",
    "        user=os.getenv(\"SNOWFLAKE_USER\"),\n",
    "        password=decoded_password,\n",
    "        account=os.getenv(\"SNOWFLAKE_ACCOUNT\"),\n",
    "        role=os.getenv(\"SNOWFLAKE_ROLE\"),\n",
    "        warehouse=os.getenv(\"SNOWFLAKE_WAREHOUSE\"),\n",
    "        database=os.getenv(\"SNOWFLAKE_DATABASE\"),\n",
    "        schema=os.getenv(\"SNOWFLAKE_SCHEMA\")\n",
    "    )\n",
    "\n",
    "    cs = conn.cursor()\n",
    "    cs.execute(\"SELECT CURRENT_VERSION()\")\n",
    "    one_row = cs.fetchone()\n",
    "    print(f\"Connected to Snowflake. Version: {one_row[0]}\")\n",
    "\n",
    "except Exception as e:\n",
    "    print(f\"Error connecting to Snowflake: {e}\")\n"
   ]
  },
  {
   "cell_type": "code",
   "execution_count": 34,
   "id": "3942f0a6",
   "metadata": {},
   "outputs": [],
   "source": [
    "df_customer = pd.read_csv(\"star_schema_tables/dim_customers.csv\")\n",
    "df_product = pd.read_csv(\"star_schema_tables/dim_products.csv\")\n",
    "df_time = pd.read_csv(\"star_schema_tables/dim_time.csv\")\n",
    "df_sales = pd.read_csv(\"star_schema_tables/fact_sales.csv\")"
   ]
  },
  {
   "cell_type": "code",
   "execution_count": null,
   "id": "eceb9db6",
   "metadata": {},
   "outputs": [],
   "source": [
    "base_path = 'star_schema_tables'\n",
    "dim_customers = pd.read_csv(os.path.join(base_path, 'dim_customers.csv'))\n",
    "dim_products = pd.read_csv(os.path.join(base_path, 'dim_products.csv'))\n",
    "dim_time = pd.read_csv(os.path.join(base_path, 'dim_time.csv'))\n",
    "fact_sales = pd.read_csv(os.path.join(base_path, 'fact_sales.csv'))\n",
    "\n",
    "\n",
    "from snowflake.connector.pandas_tools import write_pandas\n",
    "\n",
    "def upload_to_snowflake(df, table_name):\n",
    "    df.columns = [col.upper() for col in df.columns]\n",
    "    success, nchunks, nrows, _ = write_pandas(conn, df, table_name.upper())\n",
    "    print(f\"Uploaded {nrows} rows to {table_name.upper()}\")\n",
    "\n",
    "upload_to_snowflake(dim_customers, 'dim_customer')\n",
    "upload_to_snowflake(dim_products, 'dim_product')\n",
    "upload_to_snowflake(dim_time, 'dim_time')\n",
    "upload_to_snowflake(fact_sales, 'fact_sales')\n",
    "\n",
    "# Close the connection\n",
    "conn.close()"
   ]
  }
 ],
 "metadata": {
  "kernelspec": {
   "display_name": "Python 3",
   "language": "python",
   "name": "python3"
  },
  "language_info": {
   "codemirror_mode": {
    "name": "ipython",
    "version": 3
   },
   "file_extension": ".py",
   "mimetype": "text/x-python",
   "name": "python",
   "nbconvert_exporter": "python",
   "pygments_lexer": "ipython3",
   "version": "3.13.2"
  }
 },
 "nbformat": 4,
 "nbformat_minor": 5
}
